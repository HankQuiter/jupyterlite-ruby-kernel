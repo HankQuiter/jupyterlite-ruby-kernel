{
  "metadata": {
    "language_info": {
      "codemirror_mode": {
        "name": "ruby"
      },
      "file_extension": ".rb",
      "mimetype": "text/ruby",
      "name": "ruby",
      "nbconvert_exporter": "ruby",
      "pygments_lexer": "ruby",
      "version": "es2017"
    },
    "kernelspec": {
      "name": "ruby",
      "display_name": "Ruby",
      "language": "ruby"
    }
  },
  "nbformat_minor": 4,
  "nbformat": 4,
  "cells": [
    {
      "cell_type": "code",
      "source": "# ============= RubyGems and Bundler preambles ==============\n\n$\".append(\"io/wait.rb\", \"socket.rb\")\n# HACK: trick bundler to think that we are supporting https\nmodule OpenSSL\n  module SSL\n    VERIFY_PEER = 0\n    class SSLError < StandardError; end\n  end\nend\n\nclass Socket\n  class << self\n    def method_missing(sym, *) = nil\n  end\nend\n\nclass SocketError; end\n\ndef Dir.home = \"/home/me\"\n\nclass Thread\n  def self.new(&block)\n    f = Fiber.new(&block)\n    def f.value = resume\n    f\n  end\nend\n\ndef File.chmod(mode, *paths) = nil\nclass File\n  def chmod(mode) = nil\nend\n\nrequire \"js\"\nrequire \"rubygems/commands/install_command\"\n\nclass JS::Object\n  def to_a\n    Array.new(self[:length].to_i) {|i| self.call(:at, i).to_i }\n  end\nend\n\nclass Gem::Request\n  def self.request(uri, request)\n    # Use proxy for RubyGems server to enable CORS\n    if uri.hostname == \"rubygems.org\" or uri.hostname == \"index.rubygems.org\"\n      uri.hostname = \"irb-wasm-proxy.edgecompute.app\"\n    end\n    options = JS.eval(\"return {}\")\n    options[:method] = request.method.to_s\n    options[:headers] = JS.eval(\"return {}\")\n    request.each_capitalized do |k, v|\n      options[:headers][k] = v\n    end\n    response = JS.global.fetch(uri.to_s, options).await\n    content_type = response[:headers].get(\"Content-Type\").to_s\n    is_octet_stream = content_type.start_with?(\"application/octet-stream\")\n    if uri.path.end_with?(\".gem\") or uri.path.end_with?(\".rz\") or is_octet_stream\n      # FIXME: support class constructor and direct function call\n      factory = JS.eval(\"return { make: (data) => new Uint8Array(data) }\")\n      body = factory.make(response.arrayBuffer.await).to_a.pack(\"C*\")\n    else\n      body = response.text.await.to_s\n    end\n    body_str = Net::BufferedIO.new(StringIO.new body)\n    # if JS.is_a?(body, JS.global[:Uint8Array])\n    #   body_str = body.to_a.pack(\"C*\")\n    # else\n    #   body_str = body.inspect\n    # end\n    # body_str = Net::BufferedIO.new(StringIO.new(body_str))\n\n    status = response[\"status\"].inspect\n    response_class = Net::HTTPResponse::CODE_TO_OBJ[status]\n    response = response_class.new(\"2.0\", status.to_i, nil)\n\n    response.reading_body(body_str, true) {}\n\n    response\n  end\n\n  def perform_request(request) = Gem::Request.request(@uri, request)\nend\n\nclass Gem::Installer\n  def build_extensions\n      # HACK: skip ext build for now...\n  end\nend\n\nclass Gem::Specification\n  # HACK: supress missing extension warning, which prevents \"require\" to work\n  def missing_extensions? = false\nend\n\ndef Gem.user_home = Dir.home\n# HACK: Install gems under writable directory by default\ndef Gem.dir = Gem.user_dir\n\nGem.configuration.concurrent_downloads = 1\n\nrequire \"bundler\"\nclass Bundler::ProcessLock\n  def self.lock(*)\n    # HACK: no flock on browser...\n    yield\n  end\nend\n\nclass Bundler::Fetcher\n  class WebConnection\n    def request(uri, request) = Gem::Request.request(uri, request)\n  end\n  def connection\n    @connection ||= WebConnection.new\n  end\nend\n\n# HACK: mark OpenSSL::Digest unavailable\nmodule Bundler::SharedHelpers\n  def md5_available? = false\nend\n\nputs \"RubyGems and Bundler are activated\"",
      "metadata": {
        "tags": [],
        "jupyter": {
          "source_hidden": true
        },
        "trusted": true
      },
      "execution_count": 1,
      "outputs": [
        {
          "name": "stdout",
          "text": "RubyGems and Bundler are activated\n",
          "output_type": "stream"
        },
        {
          "execution_count": 1,
          "output_type": "execute_result",
          "data": {
            "text/plain": ""
          },
          "metadata": {}
        }
      ]
    },
    {
      "cell_type": "code",
      "source": "require \"bundler/inline\"\n\n# HACK\n$\" << \"enumerable/statistics/extension\"\n\ngemfile(true) do\n    source 'https://rubygems.org'\n    gem \"unicode_plot\"\nend",
      "metadata": {
        "tags": [],
        "trusted": true
      },
      "execution_count": 11,
      "outputs": [
        {
          "name": "stdout",
          "text": "Fetching gem metadata from https://rubygems.org/...\nResolving dependencies...\nUsing bundler 2.4.0.dev\nUsing enumerable-statistics 2.0.7\nUsing unicode_plot 0.0.5\n",
          "output_type": "stream"
        },
        {
          "execution_count": 11,
          "output_type": "execute_result",
          "data": {
            "text/plain": "[<Bundler::Dependency type=:runtime name=\"unicode_plot\" requirements=\">= 0\">]"
          },
          "metadata": {}
        }
      ]
    },
    {
      "cell_type": "code",
      "source": "x = Array.new(500) { 20*rand - 10 } + Array.new(500) { 6*rand - 3 }\ny = Array.new(1000) { 30*rand - 10 }\nUnicodePlot.densityplot(x, y, title: \"Density\").render",
      "metadata": {
        "trusted": true
      },
      "execution_count": 10,
      "outputs": [
        {
          "name": "stdout",
          "text": "\u001b[1m                        Density\u001b[22m\n\u001b[90m       ┌────────────────────────────────────────┐\u001b[39m \n    \u001b[90m20\u001b[39m\u001b[90m │\u001b[39m\u001b[32m \u001b[39m\u001b[32m \u001b[39m\u001b[32m░\u001b[39m\u001b[0m \u001b[32m░\u001b[39m\u001b[32m \u001b[39m\u001b[32m \u001b[39m\u001b[0m \u001b[0m \u001b[0m \u001b[0m \u001b[32m░\u001b[39m\u001b[32m \u001b[39m\u001b[0m \u001b[32m▓\u001b[39m\u001b[32m░\u001b[39m\u001b[32m▒\u001b[39m\u001b[32m▒\u001b[39m\u001b[32m \u001b[39m\u001b[32m▒\u001b[39m\u001b[32m \u001b[39m\u001b[32m▒\u001b[39m\u001b[32m░\u001b[39m\u001b[32m░\u001b[39m\u001b[32m░\u001b[39m\u001b[32m▒\u001b[39m\u001b[0m \u001b[32m \u001b[39m\u001b[32m \u001b[39m\u001b[32m \u001b[39m\u001b[0m \u001b[32m░\u001b[39m\u001b[0m \u001b[32m \u001b[39m\u001b[32m░\u001b[39m\u001b[0m \u001b[32m \u001b[39m\u001b[0m \u001b[0m \u001b[0m \u001b[90m│\u001b[39m \n      \u001b[90m │\u001b[39m\u001b[32m \u001b[39m\u001b[32m░\u001b[39m\u001b[0m \u001b[32m░\u001b[39m\u001b[0m \u001b[0m \u001b[0m \u001b[0m \u001b[32m \u001b[39m\u001b[0m \u001b[0m \u001b[32m░\u001b[39m\u001b[0m \u001b[32m \u001b[39m\u001b[32m▒\u001b[39m\u001b[0m \u001b[32m▓\u001b[39m\u001b[32m░\u001b[39m\u001b[32m▒\u001b[39m\u001b[32m▒\u001b[39m\u001b[32m \u001b[39m\u001b[32m▒\u001b[39m\u001b[32m░\u001b[39m\u001b[32m▒\u001b[39m\u001b[32m░\u001b[39m\u001b[32m▓\u001b[39m\u001b[32m \u001b[39m\u001b[32m░\u001b[39m\u001b[0m \u001b[0m \u001b[0m \u001b[0m \u001b[32m░\u001b[39m\u001b[0m \u001b[32m \u001b[39m\u001b[32m░\u001b[39m\u001b[0m \u001b[32m░\u001b[39m\u001b[32m░\u001b[39m\u001b[0m \u001b[90m│\u001b[39m \n      \u001b[90m │\u001b[39m\u001b[0m \u001b[32m░\u001b[39m\u001b[0m \u001b[32m \u001b[39m\u001b[32m░\u001b[39m\u001b[32m░\u001b[39m\u001b[0m \u001b[32m \u001b[39m\u001b[32m░\u001b[39m\u001b[32m \u001b[39m\u001b[32m \u001b[39m\u001b[0m \u001b[0m \u001b[32m \u001b[39m\u001b[32m▒\u001b[39m\u001b[32m░\u001b[39m\u001b[32m \u001b[39m\u001b[32m▒\u001b[39m\u001b[32m░\u001b[39m\u001b[32m \u001b[39m\u001b[32m \u001b[39m\u001b[32m▒\u001b[39m\u001b[32m▒\u001b[39m\u001b[32m▒\u001b[39m\u001b[32m░\u001b[39m\u001b[32m░\u001b[39m\u001b[32m \u001b[39m\u001b[0m \u001b[0m \u001b[32m \u001b[39m\u001b[0m \u001b[0m \u001b[0m \u001b[0m \u001b[32m \u001b[39m\u001b[32m░\u001b[39m\u001b[0m \u001b[32m \u001b[39m\u001b[0m \u001b[32m▒\u001b[39m\u001b[90m│\u001b[39m \n      \u001b[90m │\u001b[39m\u001b[32m░\u001b[39m\u001b[32m░\u001b[39m\u001b[0m \u001b[32m░\u001b[39m\u001b[0m \u001b[32m \u001b[39m\u001b[0m \u001b[0m \u001b[0m \u001b[32m \u001b[39m\u001b[32m░\u001b[39m\u001b[0m \u001b[32m \u001b[39m\u001b[0m \u001b[32m \u001b[39m\u001b[32m░\u001b[39m\u001b[32m█\u001b[39m\u001b[32m▒\u001b[39m\u001b[32m \u001b[39m\u001b[32m▓\u001b[39m\u001b[32m▒\u001b[39m\u001b[32m░\u001b[39m\u001b[32m▒\u001b[39m\u001b[32m▓\u001b[39m\u001b[32m░\u001b[39m\u001b[32m░\u001b[39m\u001b[32m░\u001b[39m\u001b[32m \u001b[39m\u001b[0m \u001b[32m░\u001b[39m\u001b[0m \u001b[32m \u001b[39m\u001b[32m░\u001b[39m\u001b[32m \u001b[39m\u001b[0m \u001b[32m░\u001b[39m\u001b[32m \u001b[39m\u001b[0m \u001b[0m \u001b[0m \u001b[90m│\u001b[39m \n      \u001b[90m │\u001b[39m\u001b[32m \u001b[39m\u001b[0m \u001b[0m \u001b[0m \u001b[32m░\u001b[39m\u001b[32m \u001b[39m\u001b[32m \u001b[39m\u001b[32m \u001b[39m\u001b[0m \u001b[32m░\u001b[39m\u001b[0m \u001b[32m \u001b[39m\u001b[32m \u001b[39m\u001b[32m \u001b[39m\u001b[32m░\u001b[39m\u001b[32m▓\u001b[39m\u001b[32m░\u001b[39m\u001b[32m▒\u001b[39m\u001b[32m▓\u001b[39m\u001b[32m▒\u001b[39m\u001b[32m░\u001b[39m\u001b[32m▒\u001b[39m\u001b[32m▓\u001b[39m\u001b[32m▓\u001b[39m\u001b[32m▒\u001b[39m\u001b[32m▒\u001b[39m\u001b[0m \u001b[0m \u001b[32m░\u001b[39m\u001b[32m \u001b[39m\u001b[0m \u001b[32m \u001b[39m\u001b[0m \u001b[32m \u001b[39m\u001b[32m░\u001b[39m\u001b[32m░\u001b[39m\u001b[32m \u001b[39m\u001b[0m \u001b[32m \u001b[39m\u001b[32m \u001b[39m\u001b[90m│\u001b[39m \n      \u001b[90m │\u001b[39m\u001b[32m░\u001b[39m\u001b[0m \u001b[0m \u001b[32m \u001b[39m\u001b[32m \u001b[39m\u001b[0m \u001b[32m \u001b[39m\u001b[32m░\u001b[39m\u001b[32m \u001b[39m\u001b[32m \u001b[39m\u001b[0m \u001b[32m \u001b[39m\u001b[0m \u001b[32m░\u001b[39m\u001b[32m▒\u001b[39m\u001b[32m▒\u001b[39m\u001b[32m░\u001b[39m\u001b[32m▒\u001b[39m\u001b[32m▒\u001b[39m\u001b[32m░\u001b[39m\u001b[32m▒\u001b[39m\u001b[32m▓\u001b[39m\u001b[32m▒\u001b[39m\u001b[32m▒\u001b[39m\u001b[32m░\u001b[39m\u001b[32m░\u001b[39m\u001b[0m \u001b[32m \u001b[39m\u001b[32m \u001b[39m\u001b[0m \u001b[32m \u001b[39m\u001b[32m \u001b[39m\u001b[0m \u001b[0m \u001b[32m \u001b[39m\u001b[0m \u001b[0m \u001b[32m \u001b[39m\u001b[32m░\u001b[39m\u001b[32m \u001b[39m\u001b[90m│\u001b[39m \n      \u001b[90m │\u001b[39m\u001b[0m \u001b[0m \u001b[32m░\u001b[39m\u001b[32m \u001b[39m\u001b[32m░\u001b[39m\u001b[32m░\u001b[39m\u001b[32m \u001b[39m\u001b[0m \u001b[32m \u001b[39m\u001b[0m \u001b[32m \u001b[39m\u001b[32m \u001b[39m\u001b[32m \u001b[39m\u001b[32m \u001b[39m\u001b[32m█\u001b[39m\u001b[32m░\u001b[39m\u001b[32m \u001b[39m\u001b[32m▒\u001b[39m\u001b[32m█\u001b[39m\u001b[32m \u001b[39m\u001b[32m░\u001b[39m\u001b[32m▒\u001b[39m\u001b[32m▓\u001b[39m\u001b[32m░\u001b[39m\u001b[32m░\u001b[39m\u001b[32m░\u001b[39m\u001b[32m░\u001b[39m\u001b[32m \u001b[39m\u001b[32m \u001b[39m\u001b[32m \u001b[39m\u001b[32m░\u001b[39m\u001b[32m \u001b[39m\u001b[0m \u001b[0m \u001b[32m \u001b[39m\u001b[32m \u001b[39m\u001b[0m \u001b[32m \u001b[39m\u001b[32m░\u001b[39m\u001b[32m░\u001b[39m\u001b[90m│\u001b[39m \n      \u001b[90m │\u001b[39m\u001b[0m \u001b[32m \u001b[39m\u001b[32m \u001b[39m\u001b[32m \u001b[39m\u001b[32m \u001b[39m\u001b[32m░\u001b[39m\u001b[32m \u001b[39m\u001b[32m \u001b[39m\u001b[32m \u001b[39m\u001b[32m░\u001b[39m\u001b[32m░\u001b[39m\u001b[32m \u001b[39m\u001b[32m \u001b[39m\u001b[0m \u001b[32m \u001b[39m\u001b[32m░\u001b[39m\u001b[32m▒\u001b[39m\u001b[32m▒\u001b[39m\u001b[32m▒\u001b[39m\u001b[32m▒\u001b[39m\u001b[0m \u001b[32m░\u001b[39m\u001b[32m▒\u001b[39m\u001b[32m░\u001b[39m\u001b[32m▒\u001b[39m\u001b[32m░\u001b[39m\u001b[32m \u001b[39m\u001b[0m \u001b[32m░\u001b[39m\u001b[32m \u001b[39m\u001b[0m \u001b[0m \u001b[32m \u001b[39m\u001b[0m \u001b[0m \u001b[0m \u001b[32m \u001b[39m\u001b[32m \u001b[39m\u001b[32m░\u001b[39m\u001b[0m \u001b[90m│\u001b[39m \n      \u001b[90m │\u001b[39m\u001b[32m \u001b[39m\u001b[0m \u001b[32m░\u001b[39m\u001b[32m \u001b[39m\u001b[32m \u001b[39m\u001b[32m░\u001b[39m\u001b[0m \u001b[32m \u001b[39m\u001b[32m \u001b[39m\u001b[0m \u001b[32m \u001b[39m\u001b[0m \u001b[32m \u001b[39m\u001b[0m \u001b[32m▒\u001b[39m\u001b[32m▒\u001b[39m\u001b[32m░\u001b[39m\u001b[32m \u001b[39m\u001b[32m▒\u001b[39m\u001b[32m░\u001b[39m\u001b[32m░\u001b[39m\u001b[32m▓\u001b[39m\u001b[32m░\u001b[39m\u001b[32m▒\u001b[39m\u001b[32m▒\u001b[39m\u001b[32m░\u001b[39m\u001b[0m \u001b[0m \u001b[0m \u001b[32m \u001b[39m\u001b[0m \u001b[32m \u001b[39m\u001b[0m \u001b[0m \u001b[32m \u001b[39m\u001b[32m \u001b[39m\u001b[0m \u001b[0m \u001b[32m \u001b[39m\u001b[32m \u001b[39m\u001b[90m│\u001b[39m \n      \u001b[90m │\u001b[39m\u001b[0m \u001b[32m \u001b[39m\u001b[0m \u001b[32m░\u001b[39m\u001b[0m \u001b[32m░\u001b[39m\u001b[0m \u001b[0m \u001b[0m \u001b[0m \u001b[0m \u001b[0m \u001b[0m \u001b[0m \u001b[32m▒\u001b[39m\u001b[32m░\u001b[39m\u001b[32m▒\u001b[39m\u001b[32m▒\u001b[39m\u001b[32m▓\u001b[39m\u001b[32m░\u001b[39m\u001b[32m▒\u001b[39m\u001b[32m \u001b[39m\u001b[32m░\u001b[39m\u001b[32m▓\u001b[39m\u001b[32m▒\u001b[39m\u001b[32m▒\u001b[39m\u001b[0m \u001b[0m \u001b[0m \u001b[32m \u001b[39m\u001b[0m \u001b[0m \u001b[0m \u001b[32m░\u001b[39m\u001b[32m \u001b[39m\u001b[0m \u001b[0m \u001b[0m \u001b[32m \u001b[39m\u001b[0m \u001b[90m│\u001b[39m \n      \u001b[90m │\u001b[39m\u001b[32m░\u001b[39m\u001b[0m \u001b[0m \u001b[32m░\u001b[39m\u001b[32m \u001b[39m\u001b[0m \u001b[32m \u001b[39m\u001b[0m \u001b[0m \u001b[0m \u001b[32m \u001b[39m\u001b[0m \u001b[32m \u001b[39m\u001b[32m░\u001b[39m\u001b[32m▒\u001b[39m\u001b[32m░\u001b[39m\u001b[32m▒\u001b[39m\u001b[32m░\u001b[39m\u001b[32m▒\u001b[39m\u001b[32m░\u001b[39m\u001b[32m▒\u001b[39m\u001b[32m▓\u001b[39m\u001b[32m▓\u001b[39m\u001b[32m░\u001b[39m\u001b[32m▒\u001b[39m\u001b[32m░\u001b[39m\u001b[32m \u001b[39m\u001b[0m \u001b[32m░\u001b[39m\u001b[0m \u001b[0m \u001b[0m \u001b[32m░\u001b[39m\u001b[0m \u001b[0m \u001b[0m \u001b[32m░\u001b[39m\u001b[0m \u001b[0m \u001b[0m \u001b[90m│\u001b[39m \n      \u001b[90m │\u001b[39m\u001b[32m \u001b[39m\u001b[32m \u001b[39m\u001b[0m \u001b[0m \u001b[0m \u001b[32m░\u001b[39m\u001b[0m \u001b[0m \u001b[32m \u001b[39m\u001b[32m \u001b[39m\u001b[0m \u001b[0m \u001b[32m \u001b[39m\u001b[32m░\u001b[39m\u001b[32m░\u001b[39m\u001b[32m▓\u001b[39m\u001b[32m▓\u001b[39m\u001b[32m░\u001b[39m\u001b[32m░\u001b[39m\u001b[32m▓\u001b[39m\u001b[32m░\u001b[39m\u001b[32m░\u001b[39m\u001b[32m▒\u001b[39m\u001b[32m▒\u001b[39m\u001b[32m▒\u001b[39m\u001b[32m \u001b[39m\u001b[0m \u001b[32m░\u001b[39m\u001b[0m \u001b[32m \u001b[39m\u001b[32m \u001b[39m\u001b[32m \u001b[39m\u001b[32m \u001b[39m\u001b[0m \u001b[0m \u001b[0m \u001b[32m \u001b[39m\u001b[0m \u001b[0m \u001b[0m \u001b[90m│\u001b[39m \n      \u001b[90m │\u001b[39m\u001b[32m░\u001b[39m\u001b[32m \u001b[39m\u001b[0m \u001b[32m \u001b[39m\u001b[32m \u001b[39m\u001b[0m \u001b[0m \u001b[32m \u001b[39m\u001b[32m \u001b[39m\u001b[32m \u001b[39m\u001b[32m \u001b[39m\u001b[32m \u001b[39m\u001b[32m \u001b[39m\u001b[32m \u001b[39m\u001b[32m░\u001b[39m\u001b[32m▒\u001b[39m\u001b[32m▒\u001b[39m\u001b[32m░\u001b[39m\u001b[32m░\u001b[39m\u001b[32m░\u001b[39m\u001b[32m▒\u001b[39m\u001b[32m▒\u001b[39m\u001b[32m▒\u001b[39m\u001b[32m▒\u001b[39m\u001b[0m \u001b[32m▒\u001b[39m\u001b[32m \u001b[39m\u001b[32m \u001b[39m\u001b[32m \u001b[39m\u001b[32m \u001b[39m\u001b[0m \u001b[32m \u001b[39m\u001b[0m \u001b[32m \u001b[39m\u001b[0m \u001b[32m \u001b[39m\u001b[32m \u001b[39m\u001b[32m \u001b[39m\u001b[32m░\u001b[39m\u001b[0m \u001b[90m│\u001b[39m \n      \u001b[90m │\u001b[39m\u001b[32m░\u001b[39m\u001b[32m░\u001b[39m\u001b[32m░\u001b[39m\u001b[32m \u001b[39m\u001b[0m \u001b[0m \u001b[0m \u001b[32m \u001b[39m\u001b[32m░\u001b[39m\u001b[0m \u001b[0m \u001b[32m░\u001b[39m\u001b[32m \u001b[39m\u001b[0m \u001b[32m▒\u001b[39m\u001b[32m▒\u001b[39m\u001b[0m \u001b[32m▒\u001b[39m\u001b[32m▒\u001b[39m\u001b[32m▓\u001b[39m\u001b[32m▓\u001b[39m\u001b[32m▒\u001b[39m\u001b[32m▒\u001b[39m\u001b[32m▒\u001b[39m\u001b[32m█\u001b[39m\u001b[32m \u001b[39m\u001b[0m \u001b[32m░\u001b[39m\u001b[32m░\u001b[39m\u001b[0m \u001b[32m░\u001b[39m\u001b[32m \u001b[39m\u001b[32m \u001b[39m\u001b[0m \u001b[0m \u001b[32m░\u001b[39m\u001b[32m \u001b[39m\u001b[0m \u001b[32m░\u001b[39m\u001b[32m░\u001b[39m\u001b[90m│\u001b[39m \n   \u001b[90m-10\u001b[39m\u001b[90m │\u001b[39m\u001b[32m \u001b[39m\u001b[32m░\u001b[39m\u001b[32m \u001b[39m\u001b[32m \u001b[39m\u001b[32m░\u001b[39m\u001b[32m░\u001b[39m\u001b[0m \u001b[0m \u001b[32m \u001b[39m\u001b[32m░\u001b[39m\u001b[0m \u001b[32m \u001b[39m\u001b[32m \u001b[39m\u001b[32m \u001b[39m\u001b[32m░\u001b[39m\u001b[32m░\u001b[39m\u001b[32m \u001b[39m\u001b[32m░\u001b[39m\u001b[32m░\u001b[39m\u001b[32m░\u001b[39m\u001b[32m░\u001b[39m\u001b[32m░\u001b[39m\u001b[32m░\u001b[39m\u001b[32m \u001b[39m\u001b[32m░\u001b[39m\u001b[32m█\u001b[39m\u001b[32m \u001b[39m\u001b[0m \u001b[0m \u001b[32m \u001b[39m\u001b[32m \u001b[39m\u001b[0m \u001b[32m░\u001b[39m\u001b[0m \u001b[32m \u001b[39m\u001b[32m \u001b[39m\u001b[32m \u001b[39m\u001b[32m░\u001b[39m\u001b[32m \u001b[39m\u001b[0m \u001b[90m│\u001b[39m \n\u001b[90m       └────────────────────────────────────────┘\u001b[39m \n\u001b[90m       -10\u001b[39m\u001b[90m                 \u001b[39m\u001b[90m                    10\u001b[39m\n",
          "output_type": "stream"
        },
        {
          "execution_count": 10,
          "output_type": "execute_result",
          "data": {
            "text/plain": ""
          },
          "metadata": {}
        }
      ]
    },
    {
      "cell_type": "code",
      "source": "",
      "metadata": {},
      "execution_count": null,
      "outputs": []
    }
  ]
}