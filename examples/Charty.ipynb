{
  "metadata": {
    "language_info": {
      "codemirror_mode": {
        "name": "ruby"
      },
      "file_extension": ".rb",
      "mimetype": "text/ruby",
      "name": "ruby",
      "nbconvert_exporter": "ruby",
      "pygments_lexer": "ruby",
      "version": "es2017"
    },
    "kernelspec": {
      "name": "ruby",
      "display_name": "Ruby",
      "language": "ruby"
    }
  },
  "nbformat_minor": 4,
  "nbformat": 4,
  "cells": [
    {
      "cell_type": "code",
      "source": "# ============= RubyGems and Bundler preambles ==============\n\n$\".append(\"io/wait.rb\", \"socket.rb\")\n# HACK: trick bundler to think that we are supporting https\nmodule OpenSSL\n  module SSL\n    VERIFY_PEER = 0\n    class SSLError < StandardError; end\n  end\nend\n\nclass Socket\n  class << self\n    def method_missing(sym, *) = nil\n  end\nend\n\nclass SocketError; end\n\ndef Dir.home = \"/home/me\"\n\nclass Thread\n  def self.new(&block)\n    f = Fiber.new(&block)\n    def f.value = resume\n    f\n  end\nend\n\ndef File.chmod(mode, *paths) = nil\nclass File\n  def chmod(mode) = nil\nend\n\nrequire \"js\"\nrequire \"rubygems/commands/install_command\"\n\nclass JS::Object\n  def to_a\n    Array.new(self[:length].to_i) {|i| self.call(:at, i).to_i }\n  end\nend\n\nclass Gem::Request\n  def self.request(uri, request)\n    # Use proxy for RubyGems server to enable CORS\n    if uri.hostname == \"rubygems.org\" or uri.hostname == \"index.rubygems.org\"\n      uri.hostname = \"irb-wasm-proxy.edgecompute.app\"\n    end\n    options = JS.eval(\"return {}\")\n    options[:method] = request.method.to_s\n    options[:headers] = JS.eval(\"return {}\")\n    request.each_capitalized do |k, v|\n      options[:headers][k] = v\n    end\n    response = JS.global.fetch(uri.to_s, options).await\n    content_type = response[:headers].get(\"Content-Type\").to_s\n    is_octet_stream = content_type.start_with?(\"application/octet-stream\")\n    if uri.path.end_with?(\".gem\") or uri.path.end_with?(\".rz\") or is_octet_stream\n      # FIXME: support class constructor and direct function call\n      factory = JS.eval(\"return { make: (data) => new Uint8Array(data) }\")\n      body = factory.make(response.arrayBuffer.await).to_a.pack(\"C*\")\n    else\n      body = response.text.await.to_s\n    end\n    body_str = Net::BufferedIO.new(StringIO.new body)\n    # if JS.is_a?(body, JS.global[:Uint8Array])\n    #   body_str = body.to_a.pack(\"C*\")\n    # else\n    #   body_str = body.inspect\n    # end\n    # body_str = Net::BufferedIO.new(StringIO.new(body_str))\n\n    status = response[\"status\"].inspect\n    response_class = Net::HTTPResponse::CODE_TO_OBJ[status]\n    response = response_class.new(\"2.0\", status.to_i, nil)\n\n    response.reading_body(body_str, true) {}\n\n    response\n  end\n\n  def perform_request(request) = Gem::Request.request(@uri, request)\nend\n\nclass Gem::Installer\n  def build_extensions\n      # HACK: skip ext build for now...\n  end\nend\n\nclass Gem::Specification\n  # HACK: supress missing extension warning, which prevents \"require\" to work\n  def missing_extensions? = false\nend\n\ndef Gem.user_home = Dir.home\n# HACK: Install gems under writable directory by default\ndef Gem.dir = Gem.user_dir\n\nGem.configuration.concurrent_downloads = 1\n\nrequire \"bundler\"\nclass Bundler::ProcessLock\n  def self.lock(*)\n    # HACK: no flock on browser...\n    yield\n  end\nend\n\nclass Bundler::Fetcher\n  class WebConnection\n    def request(uri, request) = Gem::Request.request(uri, request)\n  end\n  def connection\n    @connection ||= WebConnection.new\n  end\nend\n\n# HACK: mark OpenSSL::Digest unavailable\nmodule Bundler::SharedHelpers\n  def md5_available? = false\nend\n\nputs \"RubyGems and Bundler are activated\"",
      "metadata": {
        "tags": [],
        "jupyter": {
          "source_hidden": true
        },
        "trusted": true
      },
      "execution_count": null,
      "outputs": [
        {
          "name": "stdout",
          "text": "RubyGems and Bundler are activated\n",
          "output_type": "stream"
        },
        {
          "execution_count": 2,
          "output_type": "execute_result",
          "data": {
            "text/plain": ""
          },
          "metadata": {}
        }
      ]
    },
    {
      "cell_type": "code",
      "source": "require \"bundler/inline\"\n\n# HACK\n$\" << \"enumerable/statistics/extension\"\n\ngemfile(true) do\n    source 'https://rubygems.org'\n    gem \"charty\"\nend",
      "metadata": {
        "tags": [],
        "trusted": true
      },
      "execution_count": null,
      "outputs": [
        {
          "name": "stdout",
          "text": "Fetching gem metadata from https://rubygems.org/......\nResolving dependencies...\nUsing bundler 2.4.0.dev\n\u001b[32mFetching pycall 1.4.1\u001b[0m\n\u001b[32mInstalling pycall 1.4.1 with native extensions\u001b[0m\n\u001b[32mFetching matplotlib 1.2.0\u001b[0m\n\u001b[32mInstalling matplotlib 1.2.0\u001b[0m\n\u001b[32mFetching numpy 0.4.0\u001b[0m\n\u001b[32mInstalling numpy 0.4.0\u001b[0m\n\u001b[32mFetching pandas 0.3.8\u001b[0m\n\u001b[32mInstalling pandas 0.3.8\u001b[0m\n\u001b[32mFetching concurrent-ruby 1.1.10\u001b[0m\n\u001b[32mInstalling concurrent-ruby 1.1.10\u001b[0m\n\u001b[32mFetching mime-types-data 3.2022.0105\u001b[0m\n\u001b[32mInstalling mime-types-data 3.2022.0105\u001b[0m\n\u001b[32mFetching mime-types 3.4.1\u001b[0m\n\u001b[32mInstalling mime-types 3.4.1\u001b[0m\n\u001b[32mFetching playwright-ruby-client 1.27.0\u001b[0m\n\u001b[32mInstalling playwright-ruby-client 1.27.0\u001b[0m\nUsing matrix 0.4.2\n\u001b[32mFetching red-colors 0.3.0\u001b[0m\n\u001b[32mInstalling red-colors 0.3.0\u001b[0m\n\u001b[32mFetching csv 3.2.5\u001b[0m\n\u001b[32mInstalling csv 3.2.5\u001b[0m\nUsing rexml 3.2.5\n\u001b[32mFetching rubyzip 2.3.2\u001b[0m\n\u001b[32mInstalling rubyzip 2.3.2\u001b[0m\n\u001b[32mFetching red-datasets 0.1.5\u001b[0m\n\u001b[32mInstalling red-datasets 0.1.5\u001b[0m\n\u001b[32mFetching red-palette 0.5.0\u001b[0m\n\u001b[32mInstalling red-palette 0.5.0\u001b[0m\n\u001b[32mFetching charty 0.2.12\u001b[0m\n\u001b[32mInstalling charty 0.2.12\u001b[0m\nPost-install message from rubyzip:\nRubyZip 3.0 is coming!\n**********************\n\nThe public API of some Rubyzip classes has been modernized to use named\nparameters for optional arguments. Please check your usage of the\nfollowing classes:\n  * `Zip::File`\n  * `Zip::Entry`\n  * `Zip::InputStream`\n  * `Zip::OutputStream`\n\nPlease ensure that your Gemfiles and .gemspecs are suitably restrictive\nto avoid an unexpected breakage when 3.0 is released (e.g. ~> 2.3.0).\nSee https://github.com/rubyzip/rubyzip for details. The Changelog also\nlists other enhancements and bugfixes that have been implemented since\nversion 2.3.0.\n",
          "output_type": "stream"
        },
        {
          "execution_count": 3,
          "output_type": "execute_result",
          "data": {
            "text/plain": "[<Bundler::Dependency type=:runtime name=\"charty\" requirements=\">= 0\">]"
          },
          "metadata": {}
        }
      ]
    },
    {
      "cell_type": "code",
      "source": "Charty::Backends.use(:plotly)\ncharty = Charty::Plotter.new(:plotly)",
      "metadata": {
        "trusted": true
      },
      "execution_count": 11,
      "outputs": [
        {
          "execution_count": 11,
          "output_type": "execute_result",
          "data": {
            "text/plain": "#<Charty::Plotter:0x344cf930>"
          },
          "metadata": {}
        }
      ]
    },
    {
      "cell_type": "code",
      "source": "plot = charty.bar do\n  series [0,1,2,3,4], [10,40,20,90,70], label: \"sample1\"\n  series [0,1,2,3,4], [90,80,70,60,50], label: \"sample2\"\n  series [0,1,2,3,4,5,6,7,8], [50,60,20,30,10, 90, 0, 100, 50], label: \"sample3\"\n  range x: 0..10, y: 1..100\n  xlabel 'foo'\n  ylabel 'bar'\n  title 'bar plot'\nend",
      "metadata": {
        "trusted": true
      },
      "execution_count": 12,
      "outputs": [
        {
          "execution_count": 12,
          "output_type": "execute_result",
          "data": {
            "text/plain": "#<Charty::RenderContext:0x2d8988e8>"
          },
          "metadata": {}
        }
      ]
    },
    {
      "cell_type": "code",
      "source": "content = JS.eval(\"return {}\")\ncontent[:data] = JS.eval(\"return {}\")\ncontent[:data][\"text/html\"] = plot.render\n$JUPYTER_KERNEL.displayData(content)",
      "metadata": {
        "trusted": true
      },
      "execution_count": 13,
      "outputs": [
        {
          "output_type": "display_data",
          "data": {
            "text/html": "\n<div id=\"charty-plotly-3\" style=\"width: 100%;height: 100%;\"></div>\n<script>\n  Plotly.plot('charty-plotly-3', [{\"type\":\"bar\",\"x\":[0,1,2,3,4],\"y\":[10,40,20,90,70],\"name\":\"sample1\"},{\"type\":\"bar\",\"x\":[0,1,2,3,4],\"y\":[90,80,70,60,50],\"name\":\"sample2\"},{\"type\":\"bar\",\"x\":[0,1,2,3,4,5,6,7,8],\"y\":[50,60,20,30,10,90,0,100,50],\"name\":\"sample3\"}], {\"title\":{\"text\":\"bar plot\"},\"xaxis\":{\"title\":\"foo\",\"range\":[0,10]},\"yaxis\":{\"title\":\"bar\",\"range\":[1,100]}} );\n</script>\n"
          },
          "metadata": {}
        },
        {
          "execution_count": 13,
          "output_type": "execute_result",
          "data": {
            "text/plain": "undefined"
          },
          "metadata": {}
        }
      ]
    },
    {
      "cell_type": "code",
      "source": "",
      "metadata": {},
      "execution_count": null,
      "outputs": []
    }
  ]
}