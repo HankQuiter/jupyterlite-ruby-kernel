{
  "cells": [
    {
      "cell_type": "code",
      "execution_count": 1,
      "metadata": {
        "jupyter": {
          "source_hidden": true
        },
        "tags": [],
        "trusted": true
      },
      "outputs": [
        {
          "name": "stdout",
          "output_type": "stream",
          "text": [
            "RubyGems and Bundler are activated\n"
          ]
        },
        {
          "data": {
            "text/plain": []
          },
          "execution_count": 1,
          "metadata": {},
          "output_type": "execute_result"
        }
      ],
      "source": [
        "# ============= RubyGems and Bundler preambles ==============\n",
        "\n",
        "$\".append(\"io/wait.rb\", \"socket.rb\")\n",
        "# HACK: trick bundler to think that we are supporting https\n",
        "module OpenSSL\n",
        "  module SSL\n",
        "    VERIFY_PEER = 0\n",
        "    class SSLError < StandardError; end\n",
        "  end\n",
        "end\n",
        "\n",
        "class Socket\n",
        "  class << self\n",
        "    def method_missing(sym, *) = nil\n",
        "  end\n",
        "end\n",
        "\n",
        "class SocketError; end\n",
        "\n",
        "def Dir.home = \"/home/me\"\n",
        "\n",
        "class Thread\n",
        "  def self.new(&block)\n",
        "    f = Fiber.new(&block)\n",
        "    def f.value = resume\n",
        "    f\n",
        "  end\n",
        "end\n",
        "\n",
        "def File.chmod(mode, *paths) = nil\n",
        "class File\n",
        "  def chmod(mode) = nil\n",
        "end\n",
        "\n",
        "require \"js\"\n",
        "require \"rubygems/commands/install_command\"\n",
        "\n",
        "class JS::Object\n",
        "  def to_a\n",
        "    Array.new(self[:length].to_i) {|i| self.call(:at, i).to_i }\n",
        "  end\n",
        "end\n",
        "\n",
        "class Gem::Request\n",
        "  def self.request(uri, request)\n",
        "    # Use proxy for RubyGems server to enable CORS\n",
        "    if uri.hostname == \"rubygems.org\" or uri.hostname == \"index.rubygems.org\"\n",
        "      uri.hostname = \"irb-wasm-proxy.edgecompute.app\"\n",
        "    end\n",
        "    options = JS.eval(\"return {}\")\n",
        "    options[:method] = request.method.to_s\n",
        "    options[:headers] = JS.eval(\"return {}\")\n",
        "    request.each_capitalized do |k, v|\n",
        "      options[:headers][k] = v\n",
        "    end\n",
        "    response = JS.global.fetch(uri.to_s, options).await\n",
        "    content_type = response[:headers].get(\"Content-Type\").to_s\n",
        "    is_octet_stream = content_type.start_with?(\"application/octet-stream\")\n",
        "    if uri.path.end_with?(\".gem\") or uri.path.end_with?(\".rz\") or is_octet_stream\n",
        "      # FIXME: support class constructor and direct function call\n",
        "      factory = JS.eval(\"return { make: (data) => new Uint8Array(data) }\")\n",
        "      body = factory.make(response.arrayBuffer.await).to_a.pack(\"C*\")\n",
        "    else\n",
        "      body = response.text.await.to_s\n",
        "    end\n",
        "    body_str = Net::BufferedIO.new(StringIO.new body)\n",
        "    # if JS.is_a?(body, JS.global[:Uint8Array])\n",
        "    #   body_str = body.to_a.pack(\"C*\")\n",
        "    # else\n",
        "    #   body_str = body.inspect\n",
        "    # end\n",
        "    # body_str = Net::BufferedIO.new(StringIO.new(body_str))\n",
        "\n",
        "    status = response[\"status\"].inspect\n",
        "    response_class = Net::HTTPResponse::CODE_TO_OBJ[status]\n",
        "    response = response_class.new(\"2.0\", status.to_i, nil)\n",
        "\n",
        "    response.reading_body(body_str, true) {}\n",
        "\n",
        "    response\n",
        "  end\n",
        "\n",
        "  def perform_request(request) = Gem::Request.request(@uri, request)\n",
        "end\n",
        "\n",
        "class Gem::Installer\n",
        "  def build_extensions\n",
        "      # HACK: skip ext build for now...\n",
        "  end\n",
        "end\n",
        "\n",
        "class Gem::Specification\n",
        "  # HACK: supress missing extension warning, which prevents \"require\" to work\n",
        "  def missing_extensions? = false\n",
        "end\n",
        "\n",
        "def Gem.user_home = Dir.home\n",
        "# HACK: Install gems under writable directory by default\n",
        "def Gem.dir = Gem.user_dir\n",
        "\n",
        "Gem.configuration.concurrent_downloads = 1\n",
        "\n",
        "require \"bundler\"\n",
        "class Bundler::ProcessLock\n",
        "  def self.lock(*)\n",
        "    # HACK: no flock on browser...\n",
        "    yield\n",
        "  end\n",
        "end\n",
        "\n",
        "class Bundler::Fetcher\n",
        "  class WebConnection\n",
        "    def request(uri, request) = Gem::Request.request(uri, request)\n",
        "  end\n",
        "  def connection\n",
        "    @connection ||= WebConnection.new\n",
        "  end\n",
        "end\n",
        "\n",
        "# HACK: mark OpenSSL::Digest unavailable\n",
        "module Bundler::SharedHelpers\n",
        "  def md5_available? = false\n",
        "end\n",
        "\n",
        "puts \"RubyGems and Bundler are activated\""
      ]
    },
    {
      "cell_type": "code",
      "execution_count": 2,
      "metadata": {
        "tags": [],
        "trusted": true
      },
      "outputs": [
        {
          "name": "stdout",
          "output_type": "stream",
          "text": [
            "Fetching gem metadata from https://rubygems.org/......\n",
            "Resolving dependencies...\n",
            "Using bundler 2.4.0.dev\n",
            "\u001b[32mFetching pycall 1.4.1\u001b[0m\n",
            "\u001b[32mInstalling pycall 1.4.1 with native extensions\u001b[0m\n",
            "\u001b[32mFetching matplotlib 1.2.0\u001b[0m\n",
            "\u001b[32mInstalling matplotlib 1.2.0\u001b[0m\n",
            "\u001b[32mFetching numpy 0.4.0\u001b[0m\n",
            "\u001b[32mInstalling numpy 0.4.0\u001b[0m\n",
            "\u001b[32mFetching pandas 0.3.8\u001b[0m\n",
            "\u001b[32mInstalling pandas 0.3.8\u001b[0m\n",
            "\u001b[32mFetching concurrent-ruby 1.1.10\u001b[0m\n",
            "\u001b[32mInstalling concurrent-ruby 1.1.10\u001b[0m\n",
            "\u001b[32mFetching mime-types-data 3.2022.0105\u001b[0m\n",
            "\u001b[32mInstalling mime-types-data 3.2022.0105\u001b[0m\n",
            "\u001b[32mFetching mime-types 3.4.1\u001b[0m\n",
            "\u001b[32mInstalling mime-types 3.4.1\u001b[0m\n",
            "\u001b[32mFetching playwright-ruby-client 1.27.0\u001b[0m\n",
            "\u001b[32mInstalling playwright-ruby-client 1.27.0\u001b[0m\n",
            "Using matrix 0.4.2\n",
            "\u001b[32mFetching red-colors 0.3.0\u001b[0m\n",
            "\u001b[32mInstalling red-colors 0.3.0\u001b[0m\n",
            "\u001b[32mFetching csv 3.2.5\u001b[0m\n",
            "\u001b[32mInstalling csv 3.2.5\u001b[0m\n",
            "Using rexml 3.2.5\n",
            "\u001b[32mFetching rubyzip 2.3.2\u001b[0m\n",
            "\u001b[32mInstalling rubyzip 2.3.2\u001b[0m\n",
            "\u001b[32mFetching red-datasets 0.1.5\u001b[0m\n",
            "\u001b[32mInstalling red-datasets 0.1.5\u001b[0m\n",
            "\u001b[32mFetching red-palette 0.5.0\u001b[0m\n",
            "\u001b[32mInstalling red-palette 0.5.0\u001b[0m\n",
            "\u001b[32mFetching charty 0.2.12\u001b[0m\n",
            "\u001b[32mInstalling charty 0.2.12\u001b[0m\n",
            "Post-install message from rubyzip:\n",
            "RubyZip 3.0 is coming!\n",
            "**********************\n",
            "\n",
            "The public API of some Rubyzip classes has been modernized to use named\n",
            "parameters for optional arguments. Please check your usage of the\n",
            "following classes:\n",
            "  * `Zip::File`\n",
            "  * `Zip::Entry`\n",
            "  * `Zip::InputStream`\n",
            "  * `Zip::OutputStream`\n",
            "\n",
            "Please ensure that your Gemfiles and .gemspecs are suitably restrictive\n",
            "to avoid an unexpected breakage when 3.0 is released (e.g. ~> 2.3.0).\n",
            "See https://github.com/rubyzip/rubyzip for details. The Changelog also\n",
            "lists other enhancements and bugfixes that have been implemented since\n",
            "version 2.3.0.\n"
          ]
        },
        {
          "data": {
            "text/plain": [
              "[<Bundler::Dependency type=:runtime name=\"charty\" requirements=\">= 0\">, <Bundler::Dependency type=:runtime name=\"red-colors\" requirements=\">= 0\">]"
            ]
          },
          "execution_count": 2,
          "metadata": {},
          "output_type": "execute_result"
        }
      ],
      "source": [
        "require \"bundler/inline\"\n",
        "\n",
        "# HACK\n",
        "$\" << \"enumerable/statistics/extension\"\n",
        "\n",
        "gemfile(true) do\n",
        "    source 'https://rubygems.org'\n",
        "    gem \"charty\", require: false\n",
        "    gem \"red-colors\"\n",
        "end"
      ]
    },
    {
      "cell_type": "code",
      "execution_count": 3,
      "metadata": {
        "trusted": true
      },
      "outputs": [
        {
          "data": {
            "text/plain": [
              "#<Charty::Plotter:0x33c20d48>"
            ]
          },
          "execution_count": 3,
          "metadata": {},
          "output_type": "execute_result"
        }
      ],
      "source": [
        "require \"charty\"\n",
        "Charty::Backends.use(:plotly)\n",
        "charty = Charty::Plotter.new(:plotly)"
      ]
    },
    {
      "cell_type": "code",
      "execution_count": 4,
      "metadata": {
        "trusted": true
      },
      "outputs": [
        {
          "data": {
            "text/plain": [
              "#<Charty::RenderContext:0x33c0ea94>"
            ]
          },
          "execution_count": 4,
          "metadata": {},
          "output_type": "execute_result"
        }
      ],
      "source": [
        "plot = charty.bar do\n",
        "  series [0,1,2,3,4], [10,40,20,90,70], label: \"sample1\"\n",
        "  series [0,1,2,3,4], [90,80,70,60,50], label: \"sample2\"\n",
        "  series [0,1,2,3,4,5,6,7,8], [50,60,20,30,10, 90, 0, 100, 50], label: \"sample3\"\n",
        "  range x: 0..10, y: 1..100\n",
        "  xlabel 'foo'\n",
        "  ylabel 'bar'\n",
        "  title 'bar plot'\n",
        "end"
      ]
    },
    {
      "cell_type": "code",
      "execution_count": 5,
      "metadata": {
        "trusted": true
      },
      "outputs": [
        {
          "data": {
            "text/html": [
              "<script type='text/javascript' src='https://cdn.plot.ly/plotly-latest.min.js'></script>\n",
              "<div id=\"charty-plotly-1\" style=\"width: 100%;height: 100%;\"></div>\n",
              "<script>\n",
              "  Plotly.plot('charty-plotly-1', [{\"type\":\"bar\",\"x\":[0,1,2,3,4],\"y\":[10,40,20,90,70],\"name\":\"sample1\"},{\"type\":\"bar\",\"x\":[0,1,2,3,4],\"y\":[90,80,70,60,50],\"name\":\"sample2\"},{\"type\":\"bar\",\"x\":[0,1,2,3,4,5,6,7,8],\"y\":[50,60,20,30,10,90,0,100,50],\"name\":\"sample3\"}], {\"title\":{\"text\":\"bar plot\"},\"xaxis\":{\"title\":\"foo\",\"range\":[0,10]},\"yaxis\":{\"title\":\"bar\",\"range\":[1,100]}} );\n",
              "</script>\n"
            ]
          },
          "metadata": {},
          "output_type": "display_data"
        },
        {
          "name": "stdout",
          "output_type": "stream",
          "text": [
            "<script type='text/javascript' src='https://cdn.plot.ly/plotly-latest.min.js'></script>\n",
            "<div id=\"charty-plotly-1\" style=\"width: 100%;height: 100%;\"></div>\n",
            "<script>\n",
            "  Plotly.plot('charty-plotly-1', [{\"type\":\"bar\",\"x\":[0,1,2,3,4],\"y\":[10,40,20,90,70],\"name\":\"sample1\"},{\"type\":\"bar\",\"x\":[0,1,2,3,4],\"y\":[90,80,70,60,50],\"name\":\"sample2\"},{\"type\":\"bar\",\"x\":[0,1,2,3,4,5,6,7,8],\"y\":[50,60,20,30,10,90,0,100,50],\"name\":\"sample3\"}], {\"title\":{\"text\":\"bar plot\"},\"xaxis\":{\"title\":\"foo\",\"range\":[0,10]},\"yaxis\":{\"title\":\"bar\",\"range\":[1,100]}} );\n",
            "</script>\n"
          ]
        },
        {
          "data": {
            "text/plain": []
          },
          "execution_count": 5,
          "metadata": {},
          "output_type": "execute_result"
        }
      ],
      "source": [
        "content = JS.eval(\"return {}\")\n",
        "html = plot.render\n",
        "content[:data] = JS.eval(\"return {}\")\n",
        "content[:data][\"text/html\"] = html\n",
        "$JUPYTER_KERNEL.displayData(content)\n",
        "puts html"
      ]
    },
    {
      "cell_type": "code",
      "execution_count": null,
      "metadata": {},
      "outputs": [],
      "source": []
    }
  ],
  "metadata": {
    "kernelspec": {
      "display_name": "Ruby",
      "language": "ruby",
      "name": "ruby"
    },
    "language_info": {
      "codemirror_mode": {
        "name": "ruby"
      },
      "file_extension": ".rb",
      "mimetype": "text/ruby",
      "name": "ruby",
      "nbconvert_exporter": "ruby",
      "pygments_lexer": "ruby",
      "version": "es2017"
    }
  },
  "nbformat": 4,
  "nbformat_minor": 4
}
