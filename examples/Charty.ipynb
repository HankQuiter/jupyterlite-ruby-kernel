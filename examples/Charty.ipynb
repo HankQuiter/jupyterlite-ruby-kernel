{
  "metadata": {
    "kernelspec": {
      "display_name": "Ruby",
      "language": "ruby",
      "name": "ruby"
    },
    "language_info": {
      "codemirror_mode": {
        "name": "ruby"
      },
      "file_extension": ".rb",
      "mimetype": "text/ruby",
      "name": "ruby",
      "nbconvert_exporter": "ruby",
      "pygments_lexer": "ruby",
      "version": "es2017"
    }
  },
  "nbformat_minor": 4,
  "nbformat": 4,
  "cells": [
    {
      "cell_type": "code",
      "source": "# ============= RubyGems and Bundler preambles ==============\n\n$\".append(\"io/wait.rb\", \"socket.rb\")\n# HACK: trick bundler to think that we are supporting https\nmodule OpenSSL\n  module SSL\n    VERIFY_PEER = 0\n    class SSLError < StandardError; end\n  end\nend\n\nclass Socket\n  class << self\n    def method_missing(sym, *) = nil\n  end\nend\n\nclass SocketError; end\n\nENV[\"HOME\"] = \"/home/me\"\n\nclass Thread\n  def self.new(&block)\n    f = Fiber.new(&block)\n    def f.value = resume\n    f\n  end\nend\n\ndef File.chmod(mode, *paths) = nil\nclass File\n  def chmod(mode) = nil\nend\n\nrequire \"js\"\nrequire \"rubygems/commands/install_command\"\n\nclass JS::Object\n  def to_a\n    Array.new(self[:length].to_i) {|i| self.call(:at, i).to_i }\n  end\nend\n\nclass Fetch\n  def self.request(uri, request)\n    # Use proxy for RubyGems server to enable CORS\n    if uri.hostname == \"rubygems.org\" or uri.hostname == \"index.rubygems.org\"\n      uri.hostname = \"irb-wasm-proxy.edgecompute.app\"\n    end\n    options = JS.eval(\"return {}\")\n    options[:method] = request.method.to_s\n    options[:headers] = JS.eval(\"return {}\")\n    request.each_capitalized do |k, v|\n      options[:headers][k] = v\n    end\n    response = JS.global.fetch(uri.to_s, options).await\n    content_type = response[:headers].get(\"Content-Type\").to_s\n    is_octet_stream = content_type.start_with?(\"application/octet-stream\")\n    if uri.path.end_with?(\".gem\") or uri.path.end_with?(\".rz\") or is_octet_stream\n      # FIXME: support class constructor and direct function call\n      factory = JS.eval(\"return { make: (data) => new Uint8Array(data) }\")\n      body = factory.make(response.arrayBuffer.await).to_a.pack(\"C*\")\n    else\n      body = response.text.await.to_s\n    end\n    body_str = Net::BufferedIO.new(StringIO.new body)\n\n    status = response[\"status\"].inspect\n    response_class = Net::HTTPResponse::CODE_TO_OBJ[status]\n    response = response_class.new(\"2.0\", status.to_i, nil)\n    response.reading_body(body_str, true) {}\n    # response.instance_variable_set(:@read, false)\n    response\n  end\nend\nclass Gem::Request\n  def self.request(uri, request)\n    response = Fetch.request uri, request\n    response\n  end\n\n  def perform_request(request) = Gem::Request.request(@uri, request)\nend\n\nclass Gem::Installer\n  def build_extensions\n      # HACK: skip ext build for now...\n  end\nend\n\nclass Gem::Specification\n  # HACK: supress missing extension warning, which prevents \"require\" to work\n  def missing_extensions? = false\nend\n\ndef Gem.user_home = Dir.home\n# HACK: Install gems under writable directory by default\ndef Gem.dir = Gem.user_dir\n\nGem.configuration.concurrent_downloads = 1\n\nrequire \"bundler\"\nclass Bundler::ProcessLock\n  def self.lock(*)\n    # HACK: no flock on browser...\n    yield\n  end\nend\n\nclass Bundler::Fetcher\n  class WebConnection\n    def request(uri, request) = Gem::Request.request(uri, request)\n  end\n  def connection\n    @connection ||= WebConnection.new\n  end\nend\n\n# HACK: mark OpenSSL::Digest unavailable\nmodule Bundler::SharedHelpers\n  def md5_available? = false\nend\n\nputs \"RubyGems and Bundler are activated\"",
      "metadata": {
        "tags": [],
        "jupyter": {
          "source_hidden": true
        },
        "trusted": true
      },
      "execution_count": 1,
      "outputs": [
        {
          "name": "stdout",
          "text": "RubyGems and Bundler are activated\n",
          "output_type": "stream"
        },
        {
          "execution_count": 1,
          "output_type": "execute_result",
          "data": {
            "text/plain": ""
          },
          "metadata": {}
        }
      ]
    },
    {
      "cell_type": "code",
      "source": "# HACK\n$\" << \"enumerable/statistics/extension\"; nil;",
      "metadata": {
        "tags": [],
        "jupyter": {
          "source_hidden": true
        },
        "trusted": true
      },
      "execution_count": 2,
      "outputs": [
        {
          "execution_count": 2,
          "output_type": "execute_result",
          "data": {
            "text/plain": ""
          },
          "metadata": {}
        }
      ]
    },
    {
      "cell_type": "code",
      "source": "require \"bundler/inline\"\n\ngemfile(true) do\n    source 'https://rubygems.org'\n    gem \"charty\"\n    gem \"red-datasets-daru\"\nend",
      "metadata": {
        "tags": [],
        "trusted": true
      },
      "execution_count": 3,
      "outputs": [
        {
          "name": "stdout",
          "text": "Fetching gem metadata from https://rubygems.org/...............\nResolving dependencies...\n\u001b[32mFetching backports 3.23.0\u001b[0m\n\u001b[32mInstalling backports 3.23.0\u001b[0m\nUsing bundler 2.4.0.dev\n\u001b[32mFetching pycall 1.4.1\u001b[0m\n\u001b[32mInstalling pycall 1.4.1 with native extensions\u001b[0m\n\u001b[32mFetching matplotlib 1.2.0\u001b[0m\n\u001b[32mInstalling matplotlib 1.2.0\u001b[0m\n\u001b[32mFetching numpy 0.4.0\u001b[0m\n\u001b[32mInstalling numpy 0.4.0\u001b[0m\n\u001b[32mFetching pandas 0.3.8\u001b[0m\n\u001b[32mInstalling pandas 0.3.8\u001b[0m\n\u001b[32mFetching concurrent-ruby 1.1.10\u001b[0m\n\u001b[32mInstalling concurrent-ruby 1.1.10\u001b[0m\n\u001b[32mFetching mime-types-data 3.2022.0105\u001b[0m\n\u001b[32mInstalling mime-types-data 3.2022.0105\u001b[0m\n\u001b[32mFetching mime-types 3.4.1\u001b[0m\n\u001b[32mInstalling mime-types 3.4.1\u001b[0m\n\u001b[32mFetching playwright-ruby-client 1.27.0\u001b[0m\n\u001b[32mInstalling playwright-ruby-client 1.27.0\u001b[0m\nUsing matrix 0.4.2\n\u001b[32mFetching red-colors 0.3.0\u001b[0m\n\u001b[32mInstalling red-colors 0.3.0\u001b[0m\n\u001b[32mFetching csv 3.2.5\u001b[0m\n\u001b[32mInstalling csv 3.2.5\u001b[0m\nUsing rexml 3.2.5\n\u001b[32mFetching rubyzip 2.3.2\u001b[0m\n\u001b[32mInstalling rubyzip 2.3.2\u001b[0m\n\u001b[32mFetching red-datasets 0.1.5\u001b[0m\n\u001b[32mInstalling red-datasets 0.1.5\u001b[0m\n\u001b[32mFetching red-palette 0.5.0\u001b[0m\n\u001b[32mInstalling red-palette 0.5.0\u001b[0m\n\u001b[32mFetching charty 0.2.12\u001b[0m\n\u001b[32mInstalling charty 0.2.12\u001b[0m\n\u001b[32mFetching packable 1.3.15\u001b[0m\n\u001b[32mInstalling packable 1.3.15\u001b[0m\n\u001b[32mFetching daru 0.3\u001b[0m\n\u001b[32mInstalling daru 0.3\u001b[0m\n\u001b[32mFetching red-datasets-daru 0.1.0\u001b[0m\n\u001b[32mInstalling red-datasets-daru 0.1.0\u001b[0m\nPost-install message from rubyzip:\nRubyZip 3.0 is coming!\n**********************\n\nThe public API of some Rubyzip classes has been modernized to use named\nparameters for optional arguments. Please check your usage of the\nfollowing classes:\n  * `Zip::File`\n  * `Zip::Entry`\n  * `Zip::InputStream`\n  * `Zip::OutputStream`\n\nPlease ensure that your Gemfiles and .gemspecs are suitably restrictive\nto avoid an unexpected breakage when 3.0 is released (e.g. ~> 2.3.0).\nSee https://github.com/rubyzip/rubyzip for details. The Changelog also\nlists other enhancements and bugfixes that have been implemented since\nversion 2.3.0.\n",
          "output_type": "stream"
        },
        {
          "execution_count": 3,
          "output_type": "execute_result",
          "data": {
            "text/plain": "[<Bundler::Dependency type=:runtime name=\"charty\" requirements=\">= 0\">, <Bundler::Dependency type=:runtime name=\"red-datasets-daru\" requirements=\">= 0\">]"
          },
          "metadata": {}
        }
      ]
    },
    {
      "cell_type": "code",
      "source": "class Datasets::Downloader\n  def download(output_path)\n    return if output_path.exist?\n\n    output_path.parent.mkpath\n\n    headers = {\n      \"Accept-Encoding\" => \"identity\",\n      \"User-Agent\" => \"Red Datasets/#{Datasets::VERSION}\",\n    }\n    start = nil\n    partial_output_path = Pathname.new(\"#{output_path}.partial\")\n    if partial_output_path.exist?\n      start = partial_output_path.size\n      headers[\"Range\"] = \"bytes=#{start}-\"\n    end\n\n    url = @url\n    http = Net::HTTP.new(url.hostname, url.port)\n    # http.set_debug_output($stderr)\n    http.use_ssl = (url.scheme == \"https\")\n    path = url.path\n    path += \"?#{url.query}\" if url.query\n    request = Net::HTTP::Get.new(path, headers)\n    response = Gem::Request.request(url, request)\n\n    if response.is_a?(Net::HTTPPartialContent)\n      mode = \"ab\"\n    else\n      start = nil\n      mode = \"wb\"\n    end\n\n    base_name = @url.path.split(\"/\").last\n    size_current = 0\n    size_max = response.content_length\n    if start\n      size_current += start\n      size_max += start\n    end\n    partial_output_path.open(mode) do |output|\n      output.write(response.body)\n    end\n    FileUtils.mv(partial_output_path, output_path)\n  rescue TooManyRedirects => error\n    last_url = error.message[/\\Atoo many redirections: (.+)\\z/, 1]\n    raise TooManyRedirects, \"too many redirections: #{@url} .. #{last_url}\"\n  end\n\n  def start_http(url, headers, limit = 10, &block)\n    if limit == 0\n      raise TooManyRedirects, \"too many redirections: #{url}\"\n    end\n    puts url.class, url, url.hostname\n    http = Net::HTTP.new(url.hostname, url.port)\n    # http.set_debug_output($stderr)\n    http.use_ssl = (url.scheme == \"https\")\n    path = url.path\n    path += \"?#{url.query}\" if url.query\n    request = Net::HTTP::Get.new(path, headers)\n    response = Gem::Request.request(url, request)\n    block.call(response)\n  end\nend\nnil",
      "metadata": {
        "tags": [],
        "jupyter": {
          "source_hidden": true,
          "outputs_hidden": true
        },
        "collapsed": true,
        "trusted": true
      },
      "execution_count": 8,
      "outputs": [
        {
          "execution_count": 8,
          "output_type": "execute_result",
          "data": {
            "text/plain": ""
          },
          "metadata": {}
        }
      ]
    },
    {
      "cell_type": "code",
      "source": "require \"charty\"\nrequire \"datasets-daru\"\n\nCharty::Backends.use(:plotly)\ncharty = Charty::Plotter.new(:plotly)\n\niris = Datasets::Iris.new.to_daru",
      "metadata": {
        "tags": [],
        "trusted": true
      },
      "execution_count": 9,
      "outputs": [
        {
          "execution_count": 9,
          "output_type": "execute_result",
          "data": {
            "text/plain": "#<Daru::DataFrame(150x5)>"
          },
          "metadata": {}
        }
      ]
    },
    {
      "cell_type": "code",
      "source": "plot = charty.scatter do\n  iris.group_by(:label).groups.each do |label, index|\n    records = iris.row[*index]\n    xs = records[:petal_length].to_a\n    ys = records[:petal_width].to_a\n    series xs, ys, label: label[0]\n  end\n  xlabel \"Petal Length\"\n  ylabel \"Petal Width\"\n  range x: 0..7, y: 0..3\nend",
      "metadata": {
        "trusted": true
      },
      "execution_count": 10,
      "outputs": [
        {
          "execution_count": 10,
          "output_type": "execute_result",
          "data": {
            "text/plain": "#<Charty::RenderContext:0x2ebdf320>"
          },
          "metadata": {}
        }
      ]
    },
    {
      "cell_type": "code",
      "source": "content = JS.eval(\"return {}\")\nhtml = plot.render\ncontent[:data] = JS.eval(\"return {}\")\ncontent[:data][\"text/html\"] = html\n$JUPYTER_KERNEL.displayData(content)",
      "metadata": {
        "trusted": true
      },
      "execution_count": 11,
      "outputs": [
        {
          "output_type": "display_data",
          "data": {
            "text/html": "\n<div id=\"charty-plotly-2\" style=\"width: 100%;height: 100%;\"></div>\n<script>\n  Plotly.plot('charty-plotly-2', [{\"type\":null,\"x\":[1.4,1.4,1.3,1.5,1.4,1.7,1.4,1.5,1.4,1.5,1.5,1.6,1.4,1.1,1.2,1.5,1.3,1.4,1.7,1.5,1.7,1.5,1.0,1.7,1.9,1.6,1.6,1.5,1.4,1.6,1.6,1.5,1.5,1.4,1.5,1.2,1.3,1.5,1.3,1.5,1.3,1.3,1.3,1.6,1.9,1.4,1.6,1.4,1.5,1.4],\"y\":[0.2,0.2,0.2,0.2,0.2,0.4,0.3,0.2,0.2,0.1,0.2,0.2,0.1,0.1,0.2,0.4,0.4,0.3,0.3,0.3,0.2,0.4,0.2,0.5,0.2,0.2,0.4,0.2,0.2,0.2,0.2,0.4,0.1,0.2,0.1,0.2,0.2,0.1,0.2,0.2,0.3,0.3,0.2,0.6,0.4,0.3,0.2,0.2,0.2,0.2],\"name\":\"Iris-setosa\",\"mode\":\"markers\"},{\"type\":null,\"x\":[4.7,4.5,4.9,4.0,4.6,4.5,4.7,3.3,4.6,3.9,3.5,4.2,4.0,4.7,3.6,4.4,4.5,4.1,4.5,3.9,4.8,4.0,4.9,4.7,4.3,4.4,4.8,5.0,4.5,3.5,3.8,3.7,3.9,5.1,4.5,4.5,4.7,4.4,4.1,4.0,4.4,4.6,4.0,3.3,4.2,4.2,4.2,4.3,3.0,4.1],\"y\":[1.4,1.5,1.5,1.3,1.5,1.3,1.6,1.0,1.3,1.4,1.0,1.5,1.0,1.4,1.3,1.4,1.5,1.0,1.5,1.1,1.8,1.3,1.5,1.2,1.3,1.4,1.4,1.7,1.5,1.0,1.1,1.0,1.2,1.6,1.5,1.6,1.5,1.3,1.3,1.3,1.2,1.4,1.2,1.0,1.3,1.2,1.3,1.3,1.1,1.3],\"name\":\"Iris-versicolor\",\"mode\":\"markers\"},{\"type\":null,\"x\":[6.0,5.1,5.9,5.6,5.8,6.6,4.5,6.3,5.8,6.1,5.1,5.3,5.5,5.0,5.1,5.3,5.5,6.7,6.9,5.0,5.7,4.9,6.7,4.9,5.7,6.0,4.8,4.9,5.6,5.8,6.1,6.4,5.6,5.1,5.6,6.1,5.6,5.5,4.8,5.4,5.6,5.1,5.1,5.9,5.7,5.2,5.0,5.2,5.4,5.1],\"y\":[2.5,1.9,2.1,1.8,2.2,2.1,1.7,1.8,1.8,2.5,2.0,1.9,2.1,2.0,2.4,2.3,1.8,2.2,2.3,1.5,2.3,2.0,2.0,1.8,2.1,1.8,1.8,1.8,2.1,1.6,1.9,2.0,2.2,1.5,1.4,2.3,2.4,1.8,1.8,2.1,2.4,2.3,1.9,2.3,2.5,2.3,1.9,2.0,2.3,1.8],\"name\":\"Iris-virginica\",\"mode\":\"markers\"}], {\"title\":{\"text\":null},\"xaxis\":{\"title\":\"Petal Length\",\"range\":[0,7]},\"yaxis\":{\"title\":\"Petal Width\",\"range\":[0,3]}} );\n</script>\n"
          },
          "metadata": {}
        },
        {
          "execution_count": 11,
          "output_type": "execute_result",
          "data": {
            "text/plain": "undefined"
          },
          "metadata": {}
        }
      ]
    },
    {
      "cell_type": "code",
      "source": "",
      "metadata": {},
      "execution_count": null,
      "outputs": []
    }
  ]
}